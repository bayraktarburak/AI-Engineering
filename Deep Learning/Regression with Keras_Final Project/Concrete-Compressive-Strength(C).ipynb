{
 "cells": [
  {
   "attachments": {},
   "cell_type": "markdown",
   "metadata": {},
   "source": [
    "<h1 align=center><font size = 5>Peer-graded Assignment: Build a Regression Model in Keras</font></h1>\n",
    "\n",
    "\n",
    "Author: Konstantinos Kontogeorgopoulos\n",
    "\n",
    "Final Assignment for Introduction to Deep Learning & Neural Networks with Keras, \n",
    "IBM Skills Network"
   ]
  },
  {
   "cell_type": "code",
   "execution_count": 18,
   "metadata": {},
   "outputs": [],
   "source": [
    "#Install libraries if you do not already have them\n",
    "#!pip install numpy==1.21.4\n",
    "#!pip install pandas==1.3.4\n",
    "#!pip install keras==2.1.6"
   ]
  },
  {
   "attachments": {},
   "cell_type": "markdown",
   "metadata": {},
   "source": [
    "## Lets first Download and clean the dataset"
   ]
  },
  {
   "cell_type": "code",
   "execution_count": 19,
   "metadata": {},
   "outputs": [],
   "source": [
    "# We import the pandas and numpy libraries\n",
    "import pandas as pd\n",
    "import numpy as np"
   ]
  },
  {
   "attachments": {},
   "cell_type": "markdown",
   "metadata": {},
   "source": [
    "We read the dataset provided by the assignment https://cocl.us/concrete_data  \n",
    "I downloaded it into the same folder as this FinalAssignment.ipynb"
   ]
  },
  {
   "cell_type": "code",
   "execution_count": 20,
   "metadata": {},
   "outputs": [
    {
     "data": {
      "text/html": [
       "<div>\n",
       "<style scoped>\n",
       "    .dataframe tbody tr th:only-of-type {\n",
       "        vertical-align: middle;\n",
       "    }\n",
       "\n",
       "    .dataframe tbody tr th {\n",
       "        vertical-align: top;\n",
       "    }\n",
       "\n",
       "    .dataframe thead th {\n",
       "        text-align: right;\n",
       "    }\n",
       "</style>\n",
       "<table border=\"1\" class=\"dataframe\">\n",
       "  <thead>\n",
       "    <tr style=\"text-align: right;\">\n",
       "      <th></th>\n",
       "      <th>Cement</th>\n",
       "      <th>Blast Furnace Slag</th>\n",
       "      <th>Fly Ash</th>\n",
       "      <th>Water</th>\n",
       "      <th>Superplasticizer</th>\n",
       "      <th>Coarse Aggregate</th>\n",
       "      <th>Fine Aggregate</th>\n",
       "      <th>Age</th>\n",
       "      <th>Strength</th>\n",
       "    </tr>\n",
       "  </thead>\n",
       "  <tbody>\n",
       "    <tr>\n",
       "      <th>0</th>\n",
       "      <td>540.0</td>\n",
       "      <td>0.0</td>\n",
       "      <td>0.0</td>\n",
       "      <td>162.0</td>\n",
       "      <td>2.5</td>\n",
       "      <td>1040.0</td>\n",
       "      <td>676.0</td>\n",
       "      <td>28</td>\n",
       "      <td>79.99</td>\n",
       "    </tr>\n",
       "    <tr>\n",
       "      <th>1</th>\n",
       "      <td>540.0</td>\n",
       "      <td>0.0</td>\n",
       "      <td>0.0</td>\n",
       "      <td>162.0</td>\n",
       "      <td>2.5</td>\n",
       "      <td>1055.0</td>\n",
       "      <td>676.0</td>\n",
       "      <td>28</td>\n",
       "      <td>61.89</td>\n",
       "    </tr>\n",
       "    <tr>\n",
       "      <th>2</th>\n",
       "      <td>332.5</td>\n",
       "      <td>142.5</td>\n",
       "      <td>0.0</td>\n",
       "      <td>228.0</td>\n",
       "      <td>0.0</td>\n",
       "      <td>932.0</td>\n",
       "      <td>594.0</td>\n",
       "      <td>270</td>\n",
       "      <td>40.27</td>\n",
       "    </tr>\n",
       "    <tr>\n",
       "      <th>3</th>\n",
       "      <td>332.5</td>\n",
       "      <td>142.5</td>\n",
       "      <td>0.0</td>\n",
       "      <td>228.0</td>\n",
       "      <td>0.0</td>\n",
       "      <td>932.0</td>\n",
       "      <td>594.0</td>\n",
       "      <td>365</td>\n",
       "      <td>41.05</td>\n",
       "    </tr>\n",
       "    <tr>\n",
       "      <th>4</th>\n",
       "      <td>198.6</td>\n",
       "      <td>132.4</td>\n",
       "      <td>0.0</td>\n",
       "      <td>192.0</td>\n",
       "      <td>0.0</td>\n",
       "      <td>978.4</td>\n",
       "      <td>825.5</td>\n",
       "      <td>360</td>\n",
       "      <td>44.30</td>\n",
       "    </tr>\n",
       "  </tbody>\n",
       "</table>\n",
       "</div>"
      ],
      "text/plain": [
       "   Cement  Blast Furnace Slag  Fly Ash  Water  Superplasticizer  \\\n",
       "0   540.0                 0.0      0.0  162.0               2.5   \n",
       "1   540.0                 0.0      0.0  162.0               2.5   \n",
       "2   332.5               142.5      0.0  228.0               0.0   \n",
       "3   332.5               142.5      0.0  228.0               0.0   \n",
       "4   198.6               132.4      0.0  192.0               0.0   \n",
       "\n",
       "   Coarse Aggregate  Fine Aggregate  Age  Strength  \n",
       "0            1040.0           676.0   28     79.99  \n",
       "1            1055.0           676.0   28     61.89  \n",
       "2             932.0           594.0  270     40.27  \n",
       "3             932.0           594.0  365     41.05  \n",
       "4             978.4           825.5  360     44.30  "
      ]
     },
     "execution_count": 20,
     "metadata": {},
     "output_type": "execute_result"
    }
   ],
   "source": [
    "#read .csv data file and put it into concrete_data pandas dataframe object\n",
    "concrete_data = pd.read_csv('https://cocl.us/concrete_data')\n",
    "#lets see the first 5 rows of the csv\n",
    "concrete_data.head()"
   ]
  },
  {
   "attachments": {},
   "cell_type": "markdown",
   "metadata": {},
   "source": [
    "This dataset is a concrete samples dataset.  \n",
    "I see that i have Cement, Blast Furnace Slag, Fly ash, Water, Superplasticizer, Coarse Aggrepate, Fine Aggregate, Age and Strength as the columns"
   ]
  },
  {
   "attachments": {},
   "cell_type": "markdown",
   "metadata": {},
   "source": [
    "I check how many data points i have"
   ]
  },
  {
   "cell_type": "code",
   "execution_count": 21,
   "metadata": {},
   "outputs": [
    {
     "data": {
      "text/plain": [
       "(1030, 9)"
      ]
     },
     "execution_count": 21,
     "metadata": {},
     "output_type": "execute_result"
    }
   ],
   "source": [
    "concrete_data.shape"
   ]
  },
  {
   "attachments": {},
   "cell_type": "markdown",
   "metadata": {},
   "source": [
    "And i see that i have 1030 samples with the 9 columns that i talked about above."
   ]
  },
  {
   "attachments": {},
   "cell_type": "markdown",
   "metadata": {},
   "source": [
    "Let's check if the data needs cleaning."
   ]
  },
  {
   "cell_type": "code",
   "execution_count": 22,
   "metadata": {},
   "outputs": [
    {
     "data": {
      "text/html": [
       "<div>\n",
       "<style scoped>\n",
       "    .dataframe tbody tr th:only-of-type {\n",
       "        vertical-align: middle;\n",
       "    }\n",
       "\n",
       "    .dataframe tbody tr th {\n",
       "        vertical-align: top;\n",
       "    }\n",
       "\n",
       "    .dataframe thead th {\n",
       "        text-align: right;\n",
       "    }\n",
       "</style>\n",
       "<table border=\"1\" class=\"dataframe\">\n",
       "  <thead>\n",
       "    <tr style=\"text-align: right;\">\n",
       "      <th></th>\n",
       "      <th>Cement</th>\n",
       "      <th>Blast Furnace Slag</th>\n",
       "      <th>Fly Ash</th>\n",
       "      <th>Water</th>\n",
       "      <th>Superplasticizer</th>\n",
       "      <th>Coarse Aggregate</th>\n",
       "      <th>Fine Aggregate</th>\n",
       "      <th>Age</th>\n",
       "      <th>Strength</th>\n",
       "    </tr>\n",
       "  </thead>\n",
       "  <tbody>\n",
       "    <tr>\n",
       "      <th>count</th>\n",
       "      <td>1030.000000</td>\n",
       "      <td>1030.000000</td>\n",
       "      <td>1030.000000</td>\n",
       "      <td>1030.000000</td>\n",
       "      <td>1030.000000</td>\n",
       "      <td>1030.000000</td>\n",
       "      <td>1030.000000</td>\n",
       "      <td>1030.000000</td>\n",
       "      <td>1030.000000</td>\n",
       "    </tr>\n",
       "    <tr>\n",
       "      <th>mean</th>\n",
       "      <td>281.167864</td>\n",
       "      <td>73.895825</td>\n",
       "      <td>54.188350</td>\n",
       "      <td>181.567282</td>\n",
       "      <td>6.204660</td>\n",
       "      <td>972.918932</td>\n",
       "      <td>773.580485</td>\n",
       "      <td>45.662136</td>\n",
       "      <td>35.817961</td>\n",
       "    </tr>\n",
       "    <tr>\n",
       "      <th>std</th>\n",
       "      <td>104.506364</td>\n",
       "      <td>86.279342</td>\n",
       "      <td>63.997004</td>\n",
       "      <td>21.354219</td>\n",
       "      <td>5.973841</td>\n",
       "      <td>77.753954</td>\n",
       "      <td>80.175980</td>\n",
       "      <td>63.169912</td>\n",
       "      <td>16.705742</td>\n",
       "    </tr>\n",
       "    <tr>\n",
       "      <th>min</th>\n",
       "      <td>102.000000</td>\n",
       "      <td>0.000000</td>\n",
       "      <td>0.000000</td>\n",
       "      <td>121.800000</td>\n",
       "      <td>0.000000</td>\n",
       "      <td>801.000000</td>\n",
       "      <td>594.000000</td>\n",
       "      <td>1.000000</td>\n",
       "      <td>2.330000</td>\n",
       "    </tr>\n",
       "    <tr>\n",
       "      <th>25%</th>\n",
       "      <td>192.375000</td>\n",
       "      <td>0.000000</td>\n",
       "      <td>0.000000</td>\n",
       "      <td>164.900000</td>\n",
       "      <td>0.000000</td>\n",
       "      <td>932.000000</td>\n",
       "      <td>730.950000</td>\n",
       "      <td>7.000000</td>\n",
       "      <td>23.710000</td>\n",
       "    </tr>\n",
       "    <tr>\n",
       "      <th>50%</th>\n",
       "      <td>272.900000</td>\n",
       "      <td>22.000000</td>\n",
       "      <td>0.000000</td>\n",
       "      <td>185.000000</td>\n",
       "      <td>6.400000</td>\n",
       "      <td>968.000000</td>\n",
       "      <td>779.500000</td>\n",
       "      <td>28.000000</td>\n",
       "      <td>34.445000</td>\n",
       "    </tr>\n",
       "    <tr>\n",
       "      <th>75%</th>\n",
       "      <td>350.000000</td>\n",
       "      <td>142.950000</td>\n",
       "      <td>118.300000</td>\n",
       "      <td>192.000000</td>\n",
       "      <td>10.200000</td>\n",
       "      <td>1029.400000</td>\n",
       "      <td>824.000000</td>\n",
       "      <td>56.000000</td>\n",
       "      <td>46.135000</td>\n",
       "    </tr>\n",
       "    <tr>\n",
       "      <th>max</th>\n",
       "      <td>540.000000</td>\n",
       "      <td>359.400000</td>\n",
       "      <td>200.100000</td>\n",
       "      <td>247.000000</td>\n",
       "      <td>32.200000</td>\n",
       "      <td>1145.000000</td>\n",
       "      <td>992.600000</td>\n",
       "      <td>365.000000</td>\n",
       "      <td>82.600000</td>\n",
       "    </tr>\n",
       "  </tbody>\n",
       "</table>\n",
       "</div>"
      ],
      "text/plain": [
       "            Cement  Blast Furnace Slag      Fly Ash        Water  \\\n",
       "count  1030.000000         1030.000000  1030.000000  1030.000000   \n",
       "mean    281.167864           73.895825    54.188350   181.567282   \n",
       "std     104.506364           86.279342    63.997004    21.354219   \n",
       "min     102.000000            0.000000     0.000000   121.800000   \n",
       "25%     192.375000            0.000000     0.000000   164.900000   \n",
       "50%     272.900000           22.000000     0.000000   185.000000   \n",
       "75%     350.000000          142.950000   118.300000   192.000000   \n",
       "max     540.000000          359.400000   200.100000   247.000000   \n",
       "\n",
       "       Superplasticizer  Coarse Aggregate  Fine Aggregate          Age  \\\n",
       "count       1030.000000       1030.000000     1030.000000  1030.000000   \n",
       "mean           6.204660        972.918932      773.580485    45.662136   \n",
       "std            5.973841         77.753954       80.175980    63.169912   \n",
       "min            0.000000        801.000000      594.000000     1.000000   \n",
       "25%            0.000000        932.000000      730.950000     7.000000   \n",
       "50%            6.400000        968.000000      779.500000    28.000000   \n",
       "75%           10.200000       1029.400000      824.000000    56.000000   \n",
       "max           32.200000       1145.000000      992.600000   365.000000   \n",
       "\n",
       "          Strength  \n",
       "count  1030.000000  \n",
       "mean     35.817961  \n",
       "std      16.705742  \n",
       "min       2.330000  \n",
       "25%      23.710000  \n",
       "50%      34.445000  \n",
       "75%      46.135000  \n",
       "max      82.600000  "
      ]
     },
     "execution_count": 22,
     "metadata": {},
     "output_type": "execute_result"
    }
   ],
   "source": [
    "concrete_data.describe()"
   ]
  },
  {
   "cell_type": "code",
   "execution_count": 23,
   "metadata": {},
   "outputs": [
    {
     "data": {
      "text/plain": [
       "Cement                0\n",
       "Blast Furnace Slag    0\n",
       "Fly Ash               0\n",
       "Water                 0\n",
       "Superplasticizer      0\n",
       "Coarse Aggregate      0\n",
       "Fine Aggregate        0\n",
       "Age                   0\n",
       "Strength              0\n",
       "dtype: int64"
      ]
     },
     "execution_count": 23,
     "metadata": {},
     "output_type": "execute_result"
    }
   ],
   "source": [
    "concrete_data.isnull().sum()"
   ]
  },
  {
   "attachments": {},
   "cell_type": "markdown",
   "metadata": {},
   "source": [
    "There are no NULL values in our data.  \n",
    "So our data is clean and we do not need to clean them."
   ]
  },
  {
   "attachments": {},
   "cell_type": "markdown",
   "metadata": {},
   "source": [
    "## Now that i know my data is clean i proceed to split the data into predictors and target according to the assignment's instructions\n",
    "\n",
    "The target is Strength and all other columns are predictors"
   ]
  },
  {
   "cell_type": "code",
   "execution_count": 24,
   "metadata": {},
   "outputs": [],
   "source": [
    "#Pass into the variable concrete_data_columns the concrete_data columns\n",
    "concrete_data_columns = concrete_data.columns\n",
    "#Pass into predictors variable the predictors, everything  except strength\n",
    "predictors = concrete_data[concrete_data_columns[concrete_data_columns != 'Strength']]\n",
    "#Pass into the target variable strength \n",
    "target = concrete_data['Strength']"
   ]
  },
  {
   "attachments": {},
   "cell_type": "markdown",
   "metadata": {},
   "source": [
    "And i doublecheck the predictors"
   ]
  },
  {
   "cell_type": "code",
   "execution_count": 25,
   "metadata": {},
   "outputs": [
    {
     "data": {
      "text/html": [
       "<div>\n",
       "<style scoped>\n",
       "    .dataframe tbody tr th:only-of-type {\n",
       "        vertical-align: middle;\n",
       "    }\n",
       "\n",
       "    .dataframe tbody tr th {\n",
       "        vertical-align: top;\n",
       "    }\n",
       "\n",
       "    .dataframe thead th {\n",
       "        text-align: right;\n",
       "    }\n",
       "</style>\n",
       "<table border=\"1\" class=\"dataframe\">\n",
       "  <thead>\n",
       "    <tr style=\"text-align: right;\">\n",
       "      <th></th>\n",
       "      <th>Cement</th>\n",
       "      <th>Blast Furnace Slag</th>\n",
       "      <th>Fly Ash</th>\n",
       "      <th>Water</th>\n",
       "      <th>Superplasticizer</th>\n",
       "      <th>Coarse Aggregate</th>\n",
       "      <th>Fine Aggregate</th>\n",
       "      <th>Age</th>\n",
       "    </tr>\n",
       "  </thead>\n",
       "  <tbody>\n",
       "    <tr>\n",
       "      <th>0</th>\n",
       "      <td>540.0</td>\n",
       "      <td>0.0</td>\n",
       "      <td>0.0</td>\n",
       "      <td>162.0</td>\n",
       "      <td>2.5</td>\n",
       "      <td>1040.0</td>\n",
       "      <td>676.0</td>\n",
       "      <td>28</td>\n",
       "    </tr>\n",
       "    <tr>\n",
       "      <th>1</th>\n",
       "      <td>540.0</td>\n",
       "      <td>0.0</td>\n",
       "      <td>0.0</td>\n",
       "      <td>162.0</td>\n",
       "      <td>2.5</td>\n",
       "      <td>1055.0</td>\n",
       "      <td>676.0</td>\n",
       "      <td>28</td>\n",
       "    </tr>\n",
       "    <tr>\n",
       "      <th>2</th>\n",
       "      <td>332.5</td>\n",
       "      <td>142.5</td>\n",
       "      <td>0.0</td>\n",
       "      <td>228.0</td>\n",
       "      <td>0.0</td>\n",
       "      <td>932.0</td>\n",
       "      <td>594.0</td>\n",
       "      <td>270</td>\n",
       "    </tr>\n",
       "    <tr>\n",
       "      <th>3</th>\n",
       "      <td>332.5</td>\n",
       "      <td>142.5</td>\n",
       "      <td>0.0</td>\n",
       "      <td>228.0</td>\n",
       "      <td>0.0</td>\n",
       "      <td>932.0</td>\n",
       "      <td>594.0</td>\n",
       "      <td>365</td>\n",
       "    </tr>\n",
       "    <tr>\n",
       "      <th>4</th>\n",
       "      <td>198.6</td>\n",
       "      <td>132.4</td>\n",
       "      <td>0.0</td>\n",
       "      <td>192.0</td>\n",
       "      <td>0.0</td>\n",
       "      <td>978.4</td>\n",
       "      <td>825.5</td>\n",
       "      <td>360</td>\n",
       "    </tr>\n",
       "  </tbody>\n",
       "</table>\n",
       "</div>"
      ],
      "text/plain": [
       "   Cement  Blast Furnace Slag  Fly Ash  Water  Superplasticizer  \\\n",
       "0   540.0                 0.0      0.0  162.0               2.5   \n",
       "1   540.0                 0.0      0.0  162.0               2.5   \n",
       "2   332.5               142.5      0.0  228.0               0.0   \n",
       "3   332.5               142.5      0.0  228.0               0.0   \n",
       "4   198.6               132.4      0.0  192.0               0.0   \n",
       "\n",
       "   Coarse Aggregate  Fine Aggregate  Age  \n",
       "0            1040.0           676.0   28  \n",
       "1            1055.0           676.0   28  \n",
       "2             932.0           594.0  270  \n",
       "3             932.0           594.0  365  \n",
       "4             978.4           825.5  360  "
      ]
     },
     "execution_count": 25,
     "metadata": {},
     "output_type": "execute_result"
    }
   ],
   "source": [
    "predictors.head()"
   ]
  },
  {
   "attachments": {},
   "cell_type": "markdown",
   "metadata": {},
   "source": [
    "And the target"
   ]
  },
  {
   "cell_type": "code",
   "execution_count": 26,
   "metadata": {},
   "outputs": [
    {
     "data": {
      "text/plain": [
       "0    79.99\n",
       "1    61.89\n",
       "2    40.27\n",
       "3    41.05\n",
       "4    44.30\n",
       "Name: Strength, dtype: float64"
      ]
     },
     "execution_count": 26,
     "metadata": {},
     "output_type": "execute_result"
    }
   ],
   "source": [
    "target.head()"
   ]
  },
  {
   "attachments": {},
   "cell_type": "markdown",
   "metadata": {},
   "source": [
    "## B: Normalize the Data "
   ]
  },
  {
   "attachments": {},
   "cell_type": "markdown",
   "metadata": {},
   "source": [
    "Recall that one way to normalize the data is by subtracting the mean from the individual predictors and dividing by the standard deviation.  \n",
    "As the instructions prompt me to do."
   ]
  },
  {
   "cell_type": "code",
   "execution_count": 27,
   "metadata": {},
   "outputs": [
    {
     "data": {
      "text/html": [
       "<div>\n",
       "<style scoped>\n",
       "    .dataframe tbody tr th:only-of-type {\n",
       "        vertical-align: middle;\n",
       "    }\n",
       "\n",
       "    .dataframe tbody tr th {\n",
       "        vertical-align: top;\n",
       "    }\n",
       "\n",
       "    .dataframe thead th {\n",
       "        text-align: right;\n",
       "    }\n",
       "</style>\n",
       "<table border=\"1\" class=\"dataframe\">\n",
       "  <thead>\n",
       "    <tr style=\"text-align: right;\">\n",
       "      <th></th>\n",
       "      <th>Cement</th>\n",
       "      <th>Blast Furnace Slag</th>\n",
       "      <th>Fly Ash</th>\n",
       "      <th>Water</th>\n",
       "      <th>Superplasticizer</th>\n",
       "      <th>Coarse Aggregate</th>\n",
       "      <th>Fine Aggregate</th>\n",
       "      <th>Age</th>\n",
       "    </tr>\n",
       "  </thead>\n",
       "  <tbody>\n",
       "    <tr>\n",
       "      <th>0</th>\n",
       "      <td>2.476712</td>\n",
       "      <td>-0.856472</td>\n",
       "      <td>-0.846733</td>\n",
       "      <td>-0.916319</td>\n",
       "      <td>-0.620147</td>\n",
       "      <td>0.862735</td>\n",
       "      <td>-1.217079</td>\n",
       "      <td>-0.279597</td>\n",
       "    </tr>\n",
       "    <tr>\n",
       "      <th>1</th>\n",
       "      <td>2.476712</td>\n",
       "      <td>-0.856472</td>\n",
       "      <td>-0.846733</td>\n",
       "      <td>-0.916319</td>\n",
       "      <td>-0.620147</td>\n",
       "      <td>1.055651</td>\n",
       "      <td>-1.217079</td>\n",
       "      <td>-0.279597</td>\n",
       "    </tr>\n",
       "    <tr>\n",
       "      <th>2</th>\n",
       "      <td>0.491187</td>\n",
       "      <td>0.795140</td>\n",
       "      <td>-0.846733</td>\n",
       "      <td>2.174405</td>\n",
       "      <td>-1.038638</td>\n",
       "      <td>-0.526262</td>\n",
       "      <td>-2.239829</td>\n",
       "      <td>3.551340</td>\n",
       "    </tr>\n",
       "    <tr>\n",
       "      <th>3</th>\n",
       "      <td>0.491187</td>\n",
       "      <td>0.795140</td>\n",
       "      <td>-0.846733</td>\n",
       "      <td>2.174405</td>\n",
       "      <td>-1.038638</td>\n",
       "      <td>-0.526262</td>\n",
       "      <td>-2.239829</td>\n",
       "      <td>5.055221</td>\n",
       "    </tr>\n",
       "    <tr>\n",
       "      <th>4</th>\n",
       "      <td>-0.790075</td>\n",
       "      <td>0.678079</td>\n",
       "      <td>-0.846733</td>\n",
       "      <td>0.488555</td>\n",
       "      <td>-1.038638</td>\n",
       "      <td>0.070492</td>\n",
       "      <td>0.647569</td>\n",
       "      <td>4.976069</td>\n",
       "    </tr>\n",
       "  </tbody>\n",
       "</table>\n",
       "</div>"
      ],
      "text/plain": [
       "     Cement  Blast Furnace Slag   Fly Ash     Water  Superplasticizer  \\\n",
       "0  2.476712           -0.856472 -0.846733 -0.916319         -0.620147   \n",
       "1  2.476712           -0.856472 -0.846733 -0.916319         -0.620147   \n",
       "2  0.491187            0.795140 -0.846733  2.174405         -1.038638   \n",
       "3  0.491187            0.795140 -0.846733  2.174405         -1.038638   \n",
       "4 -0.790075            0.678079 -0.846733  0.488555         -1.038638   \n",
       "\n",
       "   Coarse Aggregate  Fine Aggregate       Age  \n",
       "0          0.862735       -1.217079 -0.279597  \n",
       "1          1.055651       -1.217079 -0.279597  \n",
       "2         -0.526262       -2.239829  3.551340  \n",
       "3         -0.526262       -2.239829  5.055221  \n",
       "4          0.070492        0.647569  4.976069  "
      ]
     },
     "execution_count": 27,
     "metadata": {},
     "output_type": "execute_result"
    }
   ],
   "source": [
    "# I normalize the data by subtracting the mean from the individual predictors and dividing by the standard deviation\n",
    "predictors_norm = (predictors - predictors.mean()) / predictors.std()\n",
    "\n",
    "# I print the top 5\n",
    "predictors_norm.head()"
   ]
  },
  {
   "attachments": {},
   "cell_type": "markdown",
   "metadata": {},
   "source": [
    "## Build a Baseline Model"
   ]
  },
  {
   "attachments": {},
   "cell_type": "markdown",
   "metadata": {},
   "source": [
    "So lets import Keras using tensorflow 2.11"
   ]
  },
  {
   "cell_type": "code",
   "execution_count": 28,
   "metadata": {},
   "outputs": [],
   "source": [
    "import tensorflow as tf \n",
    "# print(tf.version.VERSION)\n",
    "# from tensorflow import keras"
   ]
  },
  {
   "attachments": {},
   "cell_type": "markdown",
   "metadata": {},
   "source": [
    "Use the Keras library to build a neural network with the following:\n",
    "\n",
    "- One hidden layer of 10 nodes, and a ReLU activation function\n",
    "\n",
    "- Use the adam optimizer and the mean squared error  as the loss function."
   ]
  },
  {
   "cell_type": "code",
   "execution_count": 29,
   "metadata": {},
   "outputs": [],
   "source": [
    "# Regression model\n",
    "def regression_model():\n",
    "    #I create the model\n",
    "    model = tf.keras.Sequential()\n",
    "    # In Dense method i put in the hidden layer 10 neurons with the RelU activation function\n",
    "    model.add(tf.keras.layers.Dense(10, activation='relu', input_shape=(8,)))\n",
    "    model.add(tf.keras.layers.Dense(1))\n",
    "    \n",
    "    # and add the adam optimizer and the mean squared error as the loss function \n",
    "    model.compile(optimizer='adam', loss='mean_squared_error')\n",
    "    return model"
   ]
  },
  {
   "attachments": {},
   "cell_type": "markdown",
   "metadata": {},
   "source": [
    "1. Randomly split the data into a training and test sets by holding 30% of the data for testing. You can use the train_test_splithelper function from Scikit-learn."
   ]
  },
  {
   "cell_type": "code",
   "execution_count": 30,
   "metadata": {},
   "outputs": [],
   "source": [
    "#import train_test_split from sklearn\n",
    "from sklearn.model_selection import train_test_split\n",
    "#and split the data into a training and test sets with 70-30 % training - test\n",
    "X_train, X_test, y_train, y_test = train_test_split(predictors, target, test_size=0.3, random_state=7)"
   ]
  },
  {
   "attachments": {},
   "cell_type": "markdown",
   "metadata": {},
   "source": [
    "## C: Repeat Part B but use 100 epochs this time for training"
   ]
  },
  {
   "attachments": {},
   "cell_type": "markdown",
   "metadata": {},
   "source": [
    "2. Train the model on the training data using 100 epochs this time as the instructions of the exercise prompt me to do."
   ]
  },
  {
   "cell_type": "code",
   "execution_count": 31,
   "metadata": {},
   "outputs": [
    {
     "name": "stdout",
     "output_type": "stream",
     "text": [
      "Epoch 1/100\n",
      "23/23 [==============================] - 0s 727us/step - loss: 159284.3281\n",
      "Epoch 2/100\n",
      "23/23 [==============================] - 0s 727us/step - loss: 80561.5000\n",
      "Epoch 3/100\n",
      "23/23 [==============================] - 0s 773us/step - loss: 32381.8008\n",
      "Epoch 4/100\n",
      "23/23 [==============================] - 0s 773us/step - loss: 11347.6377\n",
      "Epoch 5/100\n",
      "23/23 [==============================] - 0s 727us/step - loss: 5957.2563\n",
      "Epoch 6/100\n",
      "23/23 [==============================] - 0s 727us/step - loss: 5175.3125\n",
      "Epoch 7/100\n",
      "23/23 [==============================] - 0s 727us/step - loss: 4945.9800\n",
      "Epoch 8/100\n",
      "23/23 [==============================] - 0s 773us/step - loss: 4715.4009\n",
      "Epoch 9/100\n",
      "23/23 [==============================] - 0s 773us/step - loss: 4488.7769\n",
      "Epoch 10/100\n",
      "23/23 [==============================] - 0s 727us/step - loss: 4281.6382\n",
      "Epoch 11/100\n",
      "23/23 [==============================] - 0s 727us/step - loss: 4082.8538\n",
      "Epoch 12/100\n",
      "23/23 [==============================] - 0s 727us/step - loss: 3889.1306\n",
      "Epoch 13/100\n",
      "23/23 [==============================] - 0s 727us/step - loss: 3706.2754\n",
      "Epoch 14/100\n",
      "23/23 [==============================] - 0s 727us/step - loss: 3533.0452\n",
      "Epoch 15/100\n",
      "23/23 [==============================] - 0s 682us/step - loss: 3366.3696\n",
      "Epoch 16/100\n",
      "23/23 [==============================] - 0s 727us/step - loss: 3212.9197\n",
      "Epoch 17/100\n",
      "23/23 [==============================] - 0s 727us/step - loss: 3063.0452\n",
      "Epoch 18/100\n",
      "23/23 [==============================] - 0s 773us/step - loss: 2920.8542\n",
      "Epoch 19/100\n",
      "23/23 [==============================] - 0s 727us/step - loss: 2790.7126\n",
      "Epoch 20/100\n",
      "23/23 [==============================] - 0s 727us/step - loss: 2673.9763\n",
      "Epoch 21/100\n",
      "23/23 [==============================] - 0s 727us/step - loss: 2555.7412\n",
      "Epoch 22/100\n",
      "23/23 [==============================] - 0s 727us/step - loss: 2444.6826\n",
      "Epoch 23/100\n",
      "23/23 [==============================] - 0s 773us/step - loss: 2339.7756\n",
      "Epoch 24/100\n",
      "23/23 [==============================] - 0s 727us/step - loss: 2241.7271\n",
      "Epoch 25/100\n",
      "23/23 [==============================] - 0s 727us/step - loss: 2151.7214\n",
      "Epoch 26/100\n",
      "23/23 [==============================] - 0s 727us/step - loss: 2067.3286\n",
      "Epoch 27/100\n",
      "23/23 [==============================] - 0s 727us/step - loss: 1983.3856\n",
      "Epoch 28/100\n",
      "23/23 [==============================] - 0s 682us/step - loss: 1905.1302\n",
      "Epoch 29/100\n",
      "23/23 [==============================] - 0s 727us/step - loss: 1832.4769\n",
      "Epoch 30/100\n",
      "23/23 [==============================] - 0s 727us/step - loss: 1761.9331\n",
      "Epoch 31/100\n",
      "23/23 [==============================] - 0s 727us/step - loss: 1697.6617\n",
      "Epoch 32/100\n",
      "23/23 [==============================] - 0s 682us/step - loss: 1631.8326\n",
      "Epoch 33/100\n",
      "23/23 [==============================] - 0s 727us/step - loss: 1569.8610\n",
      "Epoch 34/100\n",
      "23/23 [==============================] - 0s 727us/step - loss: 1512.7137\n",
      "Epoch 35/100\n",
      "23/23 [==============================] - 0s 682us/step - loss: 1457.3582\n",
      "Epoch 36/100\n",
      "23/23 [==============================] - 0s 727us/step - loss: 1404.7090\n",
      "Epoch 37/100\n",
      "23/23 [==============================] - 0s 727us/step - loss: 1355.3262\n",
      "Epoch 38/100\n",
      "23/23 [==============================] - 0s 727us/step - loss: 1306.7592\n",
      "Epoch 39/100\n",
      "23/23 [==============================] - 0s 727us/step - loss: 1259.7472\n",
      "Epoch 40/100\n",
      "23/23 [==============================] - 0s 727us/step - loss: 1214.3101\n",
      "Epoch 41/100\n",
      "23/23 [==============================] - 0s 727us/step - loss: 1171.8020\n",
      "Epoch 42/100\n",
      "23/23 [==============================] - 0s 727us/step - loss: 1130.0333\n",
      "Epoch 43/100\n",
      "23/23 [==============================] - 0s 773us/step - loss: 1089.3497\n",
      "Epoch 44/100\n",
      "23/23 [==============================] - 0s 727us/step - loss: 1052.3849\n",
      "Epoch 45/100\n",
      "23/23 [==============================] - 0s 727us/step - loss: 1013.1608\n",
      "Epoch 46/100\n",
      "23/23 [==============================] - 0s 727us/step - loss: 973.8618\n",
      "Epoch 47/100\n",
      "23/23 [==============================] - 0s 727us/step - loss: 938.2529\n",
      "Epoch 48/100\n",
      "23/23 [==============================] - 0s 727us/step - loss: 904.8013\n",
      "Epoch 49/100\n",
      "23/23 [==============================] - 0s 727us/step - loss: 870.5204\n",
      "Epoch 50/100\n",
      "23/23 [==============================] - 0s 727us/step - loss: 838.2256\n",
      "Epoch 51/100\n",
      "23/23 [==============================] - 0s 773us/step - loss: 806.1928\n",
      "Epoch 52/100\n",
      "23/23 [==============================] - 0s 727us/step - loss: 773.5565\n",
      "Epoch 53/100\n",
      "23/23 [==============================] - 0s 727us/step - loss: 744.3152\n",
      "Epoch 54/100\n",
      "23/23 [==============================] - 0s 727us/step - loss: 714.5247\n",
      "Epoch 55/100\n",
      "23/23 [==============================] - 0s 727us/step - loss: 686.3481\n",
      "Epoch 56/100\n",
      "23/23 [==============================] - 0s 682us/step - loss: 659.0702\n",
      "Epoch 57/100\n",
      "23/23 [==============================] - 0s 727us/step - loss: 632.5594\n",
      "Epoch 58/100\n",
      "23/23 [==============================] - 0s 727us/step - loss: 607.1906\n",
      "Epoch 59/100\n",
      "23/23 [==============================] - 0s 773us/step - loss: 580.7125\n",
      "Epoch 60/100\n",
      "23/23 [==============================] - 0s 682us/step - loss: 556.7145\n",
      "Epoch 61/100\n",
      "23/23 [==============================] - 0s 727us/step - loss: 532.8727\n",
      "Epoch 62/100\n",
      "23/23 [==============================] - 0s 727us/step - loss: 510.3752\n",
      "Epoch 63/100\n",
      "23/23 [==============================] - 0s 727us/step - loss: 488.5331\n",
      "Epoch 64/100\n",
      "23/23 [==============================] - 0s 727us/step - loss: 466.8521\n",
      "Epoch 65/100\n",
      "23/23 [==============================] - 0s 727us/step - loss: 446.5658\n",
      "Epoch 66/100\n",
      "23/23 [==============================] - 0s 727us/step - loss: 427.1783\n",
      "Epoch 67/100\n",
      "23/23 [==============================] - 0s 727us/step - loss: 408.5275\n",
      "Epoch 68/100\n",
      "23/23 [==============================] - 0s 727us/step - loss: 389.1656\n",
      "Epoch 69/100\n",
      "23/23 [==============================] - 0s 727us/step - loss: 372.8141\n",
      "Epoch 70/100\n",
      "23/23 [==============================] - 0s 727us/step - loss: 355.1025\n",
      "Epoch 71/100\n",
      "23/23 [==============================] - 0s 682us/step - loss: 340.6607\n",
      "Epoch 72/100\n",
      "23/23 [==============================] - 0s 727us/step - loss: 324.9950\n",
      "Epoch 73/100\n",
      "23/23 [==============================] - 0s 727us/step - loss: 310.4079\n",
      "Epoch 74/100\n",
      "23/23 [==============================] - 0s 727us/step - loss: 295.8029\n",
      "Epoch 75/100\n",
      "23/23 [==============================] - 0s 727us/step - loss: 283.8542\n",
      "Epoch 76/100\n",
      "23/23 [==============================] - 0s 727us/step - loss: 270.2325\n",
      "Epoch 77/100\n",
      "23/23 [==============================] - 0s 727us/step - loss: 258.7966\n",
      "Epoch 78/100\n",
      "23/23 [==============================] - 0s 727us/step - loss: 247.4226\n",
      "Epoch 79/100\n",
      "23/23 [==============================] - 0s 727us/step - loss: 238.2872\n",
      "Epoch 80/100\n",
      "23/23 [==============================] - 0s 727us/step - loss: 227.3318\n",
      "Epoch 81/100\n",
      "23/23 [==============================] - 0s 682us/step - loss: 218.0222\n",
      "Epoch 82/100\n",
      "23/23 [==============================] - 0s 727us/step - loss: 209.9407\n",
      "Epoch 83/100\n",
      "23/23 [==============================] - 0s 727us/step - loss: 202.0778\n",
      "Epoch 84/100\n",
      "23/23 [==============================] - 0s 727us/step - loss: 194.8595\n",
      "Epoch 85/100\n",
      "23/23 [==============================] - 0s 727us/step - loss: 189.6523\n",
      "Epoch 86/100\n",
      "23/23 [==============================] - 0s 727us/step - loss: 182.4786\n",
      "Epoch 87/100\n",
      "23/23 [==============================] - 0s 727us/step - loss: 176.9606\n",
      "Epoch 88/100\n",
      "23/23 [==============================] - 0s 727us/step - loss: 170.6241\n",
      "Epoch 89/100\n",
      "23/23 [==============================] - 0s 727us/step - loss: 166.7129\n",
      "Epoch 90/100\n",
      "23/23 [==============================] - 0s 727us/step - loss: 161.7235\n",
      "Epoch 91/100\n",
      "23/23 [==============================] - 0s 727us/step - loss: 157.7588\n",
      "Epoch 92/100\n",
      "23/23 [==============================] - 0s 727us/step - loss: 154.3105\n",
      "Epoch 93/100\n",
      "23/23 [==============================] - 0s 727us/step - loss: 151.4367\n",
      "Epoch 94/100\n",
      "23/23 [==============================] - 0s 727us/step - loss: 148.0429\n",
      "Epoch 95/100\n",
      "23/23 [==============================] - 0s 727us/step - loss: 145.7565\n",
      "Epoch 96/100\n",
      "23/23 [==============================] - 0s 727us/step - loss: 144.2930\n",
      "Epoch 97/100\n",
      "23/23 [==============================] - 0s 727us/step - loss: 140.9463\n",
      "Epoch 98/100\n",
      "23/23 [==============================] - 0s 682us/step - loss: 139.7664\n",
      "Epoch 99/100\n",
      "23/23 [==============================] - 0s 682us/step - loss: 137.6616\n",
      "Epoch 100/100\n",
      "23/23 [==============================] - 0s 727us/step - loss: 136.8844\n"
     ]
    },
    {
     "data": {
      "text/plain": [
       "<keras.callbacks.History at 0x17b99fa8100>"
      ]
     },
     "execution_count": 31,
     "metadata": {},
     "output_type": "execute_result"
    }
   ],
   "source": [
    "# I call the method to create the model and put it into model var\n",
    "model = regression_model()\n",
    "# and i use 100 epochs to train it\n",
    "model.fit(X_train, y_train, epochs=100, verbose=1)"
   ]
  },
  {
   "attachments": {},
   "cell_type": "markdown",
   "metadata": {},
   "source": [
    "3. Evaluate the model on the test data and compute the mean squared error between the predicted concrete strength and the actual concrete strength. You can use the mean_squared_error function from Scikit-learn."
   ]
  },
  {
   "cell_type": "code",
   "execution_count": 32,
   "metadata": {},
   "outputs": [
    {
     "name": "stdout",
     "output_type": "stream",
     "text": [
      "10/10 [==============================] - 0s 778us/step - loss: 127.4044\n",
      "10/10 [==============================] - 0s 667us/step\n"
     ]
    },
    {
     "data": {
      "text/plain": [
       "127.40442657470703"
      ]
     },
     "execution_count": 32,
     "metadata": {},
     "output_type": "execute_result"
    }
   ],
   "source": [
    "#evaluate the model \n",
    "loss_val = model.evaluate(X_test, y_test)\n",
    "y_pred = model.predict(X_test)\n",
    "loss_val"
   ]
  },
  {
   "cell_type": "code",
   "execution_count": 33,
   "metadata": {},
   "outputs": [
    {
     "name": "stdout",
     "output_type": "stream",
     "text": [
      "127.40442242526683 0.0\n"
     ]
    }
   ],
   "source": [
    "# import mean_squared_error from sklearn.metrics\n",
    "from sklearn.metrics import mean_squared_error\n",
    "# compute the mean squared error between the predicted concrete stregth y_pred and the actual concrete strength y_test \n",
    "mean_square_error = mean_squared_error(y_test, y_pred)\n",
    "mean = np.mean(mean_square_error)\n",
    "standard_deviation = np.std(mean_square_error)\n",
    "print(mean, standard_deviation)"
   ]
  },
  {
   "attachments": {},
   "cell_type": "markdown",
   "metadata": {},
   "source": [
    "4. Repeat steps 1 - 3, 50 times, i.e., create a list of 50 mean squared errors.  \n",
    "5. Report the mean and the standard deviation of the mean squared errors."
   ]
  },
  {
   "cell_type": "code",
   "execution_count": 34,
   "metadata": {},
   "outputs": [
    {
     "name": "stdout",
     "output_type": "stream",
     "text": [
      "MSE 1: 102.5456314086914\n",
      "10/10 [==============================] - 0s 667us/step\n",
      "MSE 2: 125.3401870727539\n",
      "10/10 [==============================] - 0s 667us/step\n",
      "MSE 3: 117.08358764648438\n",
      "10/10 [==============================] - 0s 889us/step\n",
      "MSE 4: 102.80683898925781\n",
      "10/10 [==============================] - 0s 778us/step\n",
      "MSE 5: 82.63968658447266\n",
      "10/10 [==============================] - 0s 556us/step\n",
      "MSE 6: 73.52833557128906\n",
      "10/10 [==============================] - 0s 778us/step\n",
      "MSE 7: 69.01797485351562\n",
      "10/10 [==============================] - 0s 778us/step\n",
      "MSE 8: 54.70022964477539\n",
      "10/10 [==============================] - 0s 667us/step\n",
      "MSE 9: 52.6583251953125\n",
      "10/10 [==============================] - 0s 667us/step\n",
      "MSE 10: 55.656471252441406\n",
      "10/10 [==============================] - 0s 667us/step\n",
      "MSE 11: 48.812416076660156\n",
      "10/10 [==============================] - 0s 667us/step\n",
      "MSE 12: 45.64715576171875\n",
      "10/10 [==============================] - 0s 889us/step\n",
      "MSE 13: 55.20590591430664\n",
      "10/10 [==============================] - 0s 667us/step\n",
      "MSE 14: 52.57242965698242\n",
      "10/10 [==============================] - 0s 667us/step\n",
      "MSE 15: 49.919212341308594\n",
      "10/10 [==============================] - 0s 667us/step\n",
      "MSE 16: 44.52899932861328\n",
      "10/10 [==============================] - 0s 670us/step\n",
      "MSE 17: 55.292057037353516\n",
      "10/10 [==============================] - 0s 776us/step\n",
      "MSE 18: 49.320289611816406\n",
      "10/10 [==============================] - 0s 687us/step\n",
      "MSE 19: 42.9154167175293\n",
      "10/10 [==============================] - 0s 667us/step\n",
      "MSE 20: 48.738136291503906\n",
      "10/10 [==============================] - 0s 667us/step\n",
      "MSE 21: 43.34250259399414\n",
      "10/10 [==============================] - 0s 781us/step\n",
      "MSE 22: 45.263614654541016\n",
      "10/10 [==============================] - 0s 667us/step\n",
      "MSE 23: 46.47981262207031\n",
      "10/10 [==============================] - 0s 667us/step\n",
      "MSE 24: 47.39308547973633\n",
      "10/10 [==============================] - 0s 778us/step\n",
      "MSE 25: 44.57295608520508\n",
      "10/10 [==============================] - 0s 554us/step\n",
      "MSE 26: 46.48383331298828\n",
      "10/10 [==============================] - 0s 666us/step\n",
      "MSE 27: 48.75803756713867\n",
      "10/10 [==============================] - 0s 666us/step\n",
      "MSE 28: 43.655155181884766\n",
      "10/10 [==============================] - 0s 778us/step\n",
      "MSE 29: 49.48534393310547\n",
      "10/10 [==============================] - 0s 777us/step\n",
      "MSE 30: 48.41647720336914\n",
      "10/10 [==============================] - 0s 666us/step\n",
      "MSE 31: 49.690311431884766\n",
      "10/10 [==============================] - 0s 667us/step\n",
      "MSE 32: 39.43024444580078\n",
      "10/10 [==============================] - 0s 778us/step\n",
      "MSE 33: 46.99455642700195\n",
      "10/10 [==============================] - 0s 556us/step\n",
      "MSE 34: 53.59261703491211\n",
      "10/10 [==============================] - 0s 667us/step\n",
      "MSE 35: 45.7955207824707\n",
      "10/10 [==============================] - 0s 667us/step\n",
      "MSE 36: 48.928218841552734\n",
      "10/10 [==============================] - 0s 667us/step\n",
      "MSE 37: 48.619468688964844\n",
      "10/10 [==============================] - 0s 664us/step\n",
      "MSE 38: 52.790775299072266\n",
      "10/10 [==============================] - 0s 778us/step\n",
      "MSE 39: 43.35506820678711\n",
      "10/10 [==============================] - 0s 667us/step\n",
      "MSE 40: 45.183650970458984\n",
      "10/10 [==============================] - 0s 667us/step\n",
      "MSE 41: 54.49608612060547\n",
      "10/10 [==============================] - 0s 667us/step\n",
      "MSE 42: 43.40624237060547\n",
      "10/10 [==============================] - 0s 666us/step\n",
      "MSE 43: 43.83809280395508\n",
      "10/10 [==============================] - 0s 667us/step\n",
      "MSE 44: 50.93716049194336\n",
      "10/10 [==============================] - 0s 667us/step\n",
      "MSE 45: 49.76532745361328\n",
      "10/10 [==============================] - 0s 555us/step\n",
      "MSE 46: 47.62668228149414\n",
      "10/10 [==============================] - 0s 663us/step\n",
      "MSE 47: 49.40576934814453\n",
      "10/10 [==============================] - 0s 667us/step\n",
      "MSE 48: 47.593597412109375\n",
      "10/10 [==============================] - 0s 667us/step\n",
      "MSE 49: 47.054203033447266\n",
      "10/10 [==============================] - 0s 778us/step\n",
      "MSE 50: 49.49061965942383\n",
      "10/10 [==============================] - 0s 667us/step\n",
      "\n",
      "\n",
      "Below is the mean and standard deviation of 50 mean squared errors with normalized data. \n",
      "\n",
      "Mean: 55.01548759212661\n",
      "Standard Deviation: 18.546971737474742\n"
     ]
    }
   ],
   "source": [
    "all_mean_squared_errors = 50\n",
    "#creating empty array\n",
    "mean_squared_errors = []\n",
    "#for 50 times i do the same as i did before\n",
    "for i in range(0, all_mean_squared_errors):\n",
    "    X_train, X_test, y_train, y_test = train_test_split(predictors, target, test_size=0.3, random_state=i)\n",
    "    model.fit(X_train, y_train, epochs=50, verbose=0)\n",
    "    MSE = model.evaluate(X_test, y_test, verbose=0)\n",
    "    print(\"MSE \"+str(i+1)+\": \"+str(MSE))\n",
    "    y_pred = model.predict(X_test)\n",
    "    mean_square_error = mean_squared_error(y_test, y_pred)\n",
    "    mean_squared_errors.append(mean_square_error)\n",
    "\n",
    "mean_squared_errors = np.array(mean_squared_errors)\n",
    "mean = np.mean(mean_squared_errors)\n",
    "standard_deviation = np.std(mean_squared_errors)\n",
    "\n",
    "print('\\n')\n",
    "print(\"Below is the mean and standard deviation of \" + str(all_mean_squared_errors) + \" mean squared errors with normalized data. \\n\")\n",
    "print(\"Mean: \"+ str(mean))\n",
    "print(\"Standard Deviation: \"+ str(standard_deviation))"
   ]
  },
  {
   "attachments": {},
   "cell_type": "markdown",
   "metadata": {},
   "source": [
    "## Question: How does the mean of the mean squared errors compare to that from Step B?"
   ]
  },
  {
   "attachments": {},
   "cell_type": "markdown",
   "metadata": {},
   "source": [
    "So at B the mean was : 59.59618163562697  \n",
    "and at C it is : 55.01548759212661  \n",
    "The mean at C after we normalized our data is quite smaller than in question B where we did not.  \n",
    "Here we see that after we did 100 epochs insted of 50 the model has even less error than before"
   ]
  }
 ],
 "metadata": {
  "kernelspec": {
   "display_name": "base",
   "language": "python",
   "name": "python3"
  },
  "language_info": {
   "codemirror_mode": {
    "name": "ipython",
    "version": 3
   },
   "file_extension": ".py",
   "mimetype": "text/x-python",
   "name": "python",
   "nbconvert_exporter": "python",
   "pygments_lexer": "ipython3",
   "version": "3.9.16"
  },
  "orig_nbformat": 4,
  "vscode": {
   "interpreter": {
    "hash": "6abd121b2e6f95f69b3b9a927f777e7560cd68a466a5b992d8c208064a9e0617"
   }
  }
 },
 "nbformat": 4,
 "nbformat_minor": 2
}
