{
 "cells": [
  {
   "attachments": {},
   "cell_type": "markdown",
   "metadata": {},
   "source": [
    "<h1 align=center><font size = 5>Peer-graded Assignment: Build a Regression Model in Keras</font></h1>\n",
    "\n",
    "\n",
    "Author: Konstantinos Kontogeorgopoulos\n",
    "\n",
    "Final Assignment for Introduction to Deep Learning & Neural Networks with Keras, \n",
    "IBM Skills Network"
   ]
  },
  {
   "cell_type": "code",
   "execution_count": 34,
   "metadata": {},
   "outputs": [],
   "source": [
    "#Install libraries if you do not already have them\n",
    "#!pip install numpy==1.21.4\n",
    "#!pip install pandas==1.3.4\n",
    "#!pip install keras==2.1.6"
   ]
  },
  {
   "attachments": {},
   "cell_type": "markdown",
   "metadata": {},
   "source": [
    "## Lets first Download and clean the dataset"
   ]
  },
  {
   "cell_type": "code",
   "execution_count": 35,
   "metadata": {},
   "outputs": [],
   "source": [
    "# We import the pandas and numpy libraries\n",
    "import pandas as pd\n",
    "import numpy as np"
   ]
  },
  {
   "attachments": {},
   "cell_type": "markdown",
   "metadata": {},
   "source": [
    "We read the dataset provided by the assignment https://cocl.us/concrete_data  \n",
    "I downloaded it into the same folder as this FinalAssignment.ipynb"
   ]
  },
  {
   "cell_type": "code",
   "execution_count": 36,
   "metadata": {},
   "outputs": [
    {
     "data": {
      "text/html": [
       "<div>\n",
       "<style scoped>\n",
       "    .dataframe tbody tr th:only-of-type {\n",
       "        vertical-align: middle;\n",
       "    }\n",
       "\n",
       "    .dataframe tbody tr th {\n",
       "        vertical-align: top;\n",
       "    }\n",
       "\n",
       "    .dataframe thead th {\n",
       "        text-align: right;\n",
       "    }\n",
       "</style>\n",
       "<table border=\"1\" class=\"dataframe\">\n",
       "  <thead>\n",
       "    <tr style=\"text-align: right;\">\n",
       "      <th></th>\n",
       "      <th>Cement</th>\n",
       "      <th>Blast Furnace Slag</th>\n",
       "      <th>Fly Ash</th>\n",
       "      <th>Water</th>\n",
       "      <th>Superplasticizer</th>\n",
       "      <th>Coarse Aggregate</th>\n",
       "      <th>Fine Aggregate</th>\n",
       "      <th>Age</th>\n",
       "      <th>Strength</th>\n",
       "    </tr>\n",
       "  </thead>\n",
       "  <tbody>\n",
       "    <tr>\n",
       "      <th>0</th>\n",
       "      <td>540.0</td>\n",
       "      <td>0.0</td>\n",
       "      <td>0.0</td>\n",
       "      <td>162.0</td>\n",
       "      <td>2.5</td>\n",
       "      <td>1040.0</td>\n",
       "      <td>676.0</td>\n",
       "      <td>28</td>\n",
       "      <td>79.99</td>\n",
       "    </tr>\n",
       "    <tr>\n",
       "      <th>1</th>\n",
       "      <td>540.0</td>\n",
       "      <td>0.0</td>\n",
       "      <td>0.0</td>\n",
       "      <td>162.0</td>\n",
       "      <td>2.5</td>\n",
       "      <td>1055.0</td>\n",
       "      <td>676.0</td>\n",
       "      <td>28</td>\n",
       "      <td>61.89</td>\n",
       "    </tr>\n",
       "    <tr>\n",
       "      <th>2</th>\n",
       "      <td>332.5</td>\n",
       "      <td>142.5</td>\n",
       "      <td>0.0</td>\n",
       "      <td>228.0</td>\n",
       "      <td>0.0</td>\n",
       "      <td>932.0</td>\n",
       "      <td>594.0</td>\n",
       "      <td>270</td>\n",
       "      <td>40.27</td>\n",
       "    </tr>\n",
       "    <tr>\n",
       "      <th>3</th>\n",
       "      <td>332.5</td>\n",
       "      <td>142.5</td>\n",
       "      <td>0.0</td>\n",
       "      <td>228.0</td>\n",
       "      <td>0.0</td>\n",
       "      <td>932.0</td>\n",
       "      <td>594.0</td>\n",
       "      <td>365</td>\n",
       "      <td>41.05</td>\n",
       "    </tr>\n",
       "    <tr>\n",
       "      <th>4</th>\n",
       "      <td>198.6</td>\n",
       "      <td>132.4</td>\n",
       "      <td>0.0</td>\n",
       "      <td>192.0</td>\n",
       "      <td>0.0</td>\n",
       "      <td>978.4</td>\n",
       "      <td>825.5</td>\n",
       "      <td>360</td>\n",
       "      <td>44.30</td>\n",
       "    </tr>\n",
       "  </tbody>\n",
       "</table>\n",
       "</div>"
      ],
      "text/plain": [
       "   Cement  Blast Furnace Slag  Fly Ash  Water  Superplasticizer  \\\n",
       "0   540.0                 0.0      0.0  162.0               2.5   \n",
       "1   540.0                 0.0      0.0  162.0               2.5   \n",
       "2   332.5               142.5      0.0  228.0               0.0   \n",
       "3   332.5               142.5      0.0  228.0               0.0   \n",
       "4   198.6               132.4      0.0  192.0               0.0   \n",
       "\n",
       "   Coarse Aggregate  Fine Aggregate  Age  Strength  \n",
       "0            1040.0           676.0   28     79.99  \n",
       "1            1055.0           676.0   28     61.89  \n",
       "2             932.0           594.0  270     40.27  \n",
       "3             932.0           594.0  365     41.05  \n",
       "4             978.4           825.5  360     44.30  "
      ]
     },
     "execution_count": 36,
     "metadata": {},
     "output_type": "execute_result"
    }
   ],
   "source": [
    "#read .csv data file and put it into concrete_data pandas dataframe object\n",
    "concrete_data = pd.read_csv('https://cocl.us/concrete_data')\n",
    "#lets see the first 5 rows of the csv\n",
    "concrete_data.head()"
   ]
  },
  {
   "attachments": {},
   "cell_type": "markdown",
   "metadata": {},
   "source": [
    "This dataset is a concrete samples dataset.  \n",
    "I see that i have Cement, Blast Furnace Slag, Fly ash, Water, Superplasticizer, Coarse Aggrepate, Fine Aggregate, Age and Strength as the columns"
   ]
  },
  {
   "attachments": {},
   "cell_type": "markdown",
   "metadata": {},
   "source": [
    "I check how many data points i have"
   ]
  },
  {
   "cell_type": "code",
   "execution_count": 37,
   "metadata": {},
   "outputs": [
    {
     "data": {
      "text/plain": [
       "(1030, 9)"
      ]
     },
     "execution_count": 37,
     "metadata": {},
     "output_type": "execute_result"
    }
   ],
   "source": [
    "concrete_data.shape"
   ]
  },
  {
   "attachments": {},
   "cell_type": "markdown",
   "metadata": {},
   "source": [
    "And i see that i have 1030 samples with the 9 columns that i talked about above."
   ]
  },
  {
   "attachments": {},
   "cell_type": "markdown",
   "metadata": {},
   "source": [
    "Let's check if the data needs cleaning."
   ]
  },
  {
   "cell_type": "code",
   "execution_count": 38,
   "metadata": {},
   "outputs": [
    {
     "data": {
      "text/html": [
       "<div>\n",
       "<style scoped>\n",
       "    .dataframe tbody tr th:only-of-type {\n",
       "        vertical-align: middle;\n",
       "    }\n",
       "\n",
       "    .dataframe tbody tr th {\n",
       "        vertical-align: top;\n",
       "    }\n",
       "\n",
       "    .dataframe thead th {\n",
       "        text-align: right;\n",
       "    }\n",
       "</style>\n",
       "<table border=\"1\" class=\"dataframe\">\n",
       "  <thead>\n",
       "    <tr style=\"text-align: right;\">\n",
       "      <th></th>\n",
       "      <th>Cement</th>\n",
       "      <th>Blast Furnace Slag</th>\n",
       "      <th>Fly Ash</th>\n",
       "      <th>Water</th>\n",
       "      <th>Superplasticizer</th>\n",
       "      <th>Coarse Aggregate</th>\n",
       "      <th>Fine Aggregate</th>\n",
       "      <th>Age</th>\n",
       "      <th>Strength</th>\n",
       "    </tr>\n",
       "  </thead>\n",
       "  <tbody>\n",
       "    <tr>\n",
       "      <th>count</th>\n",
       "      <td>1030.000000</td>\n",
       "      <td>1030.000000</td>\n",
       "      <td>1030.000000</td>\n",
       "      <td>1030.000000</td>\n",
       "      <td>1030.000000</td>\n",
       "      <td>1030.000000</td>\n",
       "      <td>1030.000000</td>\n",
       "      <td>1030.000000</td>\n",
       "      <td>1030.000000</td>\n",
       "    </tr>\n",
       "    <tr>\n",
       "      <th>mean</th>\n",
       "      <td>281.167864</td>\n",
       "      <td>73.895825</td>\n",
       "      <td>54.188350</td>\n",
       "      <td>181.567282</td>\n",
       "      <td>6.204660</td>\n",
       "      <td>972.918932</td>\n",
       "      <td>773.580485</td>\n",
       "      <td>45.662136</td>\n",
       "      <td>35.817961</td>\n",
       "    </tr>\n",
       "    <tr>\n",
       "      <th>std</th>\n",
       "      <td>104.506364</td>\n",
       "      <td>86.279342</td>\n",
       "      <td>63.997004</td>\n",
       "      <td>21.354219</td>\n",
       "      <td>5.973841</td>\n",
       "      <td>77.753954</td>\n",
       "      <td>80.175980</td>\n",
       "      <td>63.169912</td>\n",
       "      <td>16.705742</td>\n",
       "    </tr>\n",
       "    <tr>\n",
       "      <th>min</th>\n",
       "      <td>102.000000</td>\n",
       "      <td>0.000000</td>\n",
       "      <td>0.000000</td>\n",
       "      <td>121.800000</td>\n",
       "      <td>0.000000</td>\n",
       "      <td>801.000000</td>\n",
       "      <td>594.000000</td>\n",
       "      <td>1.000000</td>\n",
       "      <td>2.330000</td>\n",
       "    </tr>\n",
       "    <tr>\n",
       "      <th>25%</th>\n",
       "      <td>192.375000</td>\n",
       "      <td>0.000000</td>\n",
       "      <td>0.000000</td>\n",
       "      <td>164.900000</td>\n",
       "      <td>0.000000</td>\n",
       "      <td>932.000000</td>\n",
       "      <td>730.950000</td>\n",
       "      <td>7.000000</td>\n",
       "      <td>23.710000</td>\n",
       "    </tr>\n",
       "    <tr>\n",
       "      <th>50%</th>\n",
       "      <td>272.900000</td>\n",
       "      <td>22.000000</td>\n",
       "      <td>0.000000</td>\n",
       "      <td>185.000000</td>\n",
       "      <td>6.400000</td>\n",
       "      <td>968.000000</td>\n",
       "      <td>779.500000</td>\n",
       "      <td>28.000000</td>\n",
       "      <td>34.445000</td>\n",
       "    </tr>\n",
       "    <tr>\n",
       "      <th>75%</th>\n",
       "      <td>350.000000</td>\n",
       "      <td>142.950000</td>\n",
       "      <td>118.300000</td>\n",
       "      <td>192.000000</td>\n",
       "      <td>10.200000</td>\n",
       "      <td>1029.400000</td>\n",
       "      <td>824.000000</td>\n",
       "      <td>56.000000</td>\n",
       "      <td>46.135000</td>\n",
       "    </tr>\n",
       "    <tr>\n",
       "      <th>max</th>\n",
       "      <td>540.000000</td>\n",
       "      <td>359.400000</td>\n",
       "      <td>200.100000</td>\n",
       "      <td>247.000000</td>\n",
       "      <td>32.200000</td>\n",
       "      <td>1145.000000</td>\n",
       "      <td>992.600000</td>\n",
       "      <td>365.000000</td>\n",
       "      <td>82.600000</td>\n",
       "    </tr>\n",
       "  </tbody>\n",
       "</table>\n",
       "</div>"
      ],
      "text/plain": [
       "            Cement  Blast Furnace Slag      Fly Ash        Water  \\\n",
       "count  1030.000000         1030.000000  1030.000000  1030.000000   \n",
       "mean    281.167864           73.895825    54.188350   181.567282   \n",
       "std     104.506364           86.279342    63.997004    21.354219   \n",
       "min     102.000000            0.000000     0.000000   121.800000   \n",
       "25%     192.375000            0.000000     0.000000   164.900000   \n",
       "50%     272.900000           22.000000     0.000000   185.000000   \n",
       "75%     350.000000          142.950000   118.300000   192.000000   \n",
       "max     540.000000          359.400000   200.100000   247.000000   \n",
       "\n",
       "       Superplasticizer  Coarse Aggregate  Fine Aggregate          Age  \\\n",
       "count       1030.000000       1030.000000     1030.000000  1030.000000   \n",
       "mean           6.204660        972.918932      773.580485    45.662136   \n",
       "std            5.973841         77.753954       80.175980    63.169912   \n",
       "min            0.000000        801.000000      594.000000     1.000000   \n",
       "25%            0.000000        932.000000      730.950000     7.000000   \n",
       "50%            6.400000        968.000000      779.500000    28.000000   \n",
       "75%           10.200000       1029.400000      824.000000    56.000000   \n",
       "max           32.200000       1145.000000      992.600000   365.000000   \n",
       "\n",
       "          Strength  \n",
       "count  1030.000000  \n",
       "mean     35.817961  \n",
       "std      16.705742  \n",
       "min       2.330000  \n",
       "25%      23.710000  \n",
       "50%      34.445000  \n",
       "75%      46.135000  \n",
       "max      82.600000  "
      ]
     },
     "execution_count": 38,
     "metadata": {},
     "output_type": "execute_result"
    }
   ],
   "source": [
    "concrete_data.describe()"
   ]
  },
  {
   "cell_type": "code",
   "execution_count": 39,
   "metadata": {},
   "outputs": [
    {
     "data": {
      "text/plain": [
       "Cement                0\n",
       "Blast Furnace Slag    0\n",
       "Fly Ash               0\n",
       "Water                 0\n",
       "Superplasticizer      0\n",
       "Coarse Aggregate      0\n",
       "Fine Aggregate        0\n",
       "Age                   0\n",
       "Strength              0\n",
       "dtype: int64"
      ]
     },
     "execution_count": 39,
     "metadata": {},
     "output_type": "execute_result"
    }
   ],
   "source": [
    "concrete_data.isnull().sum()"
   ]
  },
  {
   "attachments": {},
   "cell_type": "markdown",
   "metadata": {},
   "source": [
    "There are no NULL values in our data.  \n",
    "So our data is clean and we do not need to clean them."
   ]
  },
  {
   "attachments": {},
   "cell_type": "markdown",
   "metadata": {},
   "source": [
    "## Now that i know my data is clean i proceed to split the data into predictors and target according to the assignment's instructions\n",
    "\n",
    "The target is Strength and all other columns are predictors"
   ]
  },
  {
   "cell_type": "code",
   "execution_count": 40,
   "metadata": {},
   "outputs": [],
   "source": [
    "#Pass into the variable concrete_data_columns the concrete_data columns\n",
    "concrete_data_columns = concrete_data.columns\n",
    "#Pass into predictors variable the predictors, everything  except strength\n",
    "predictors = concrete_data[concrete_data_columns[concrete_data_columns != 'Strength']]\n",
    "#Pass into the target variable strength \n",
    "target = concrete_data['Strength']"
   ]
  },
  {
   "attachments": {},
   "cell_type": "markdown",
   "metadata": {},
   "source": [
    "And i doublecheck the predictors"
   ]
  },
  {
   "cell_type": "code",
   "execution_count": 41,
   "metadata": {},
   "outputs": [
    {
     "data": {
      "text/html": [
       "<div>\n",
       "<style scoped>\n",
       "    .dataframe tbody tr th:only-of-type {\n",
       "        vertical-align: middle;\n",
       "    }\n",
       "\n",
       "    .dataframe tbody tr th {\n",
       "        vertical-align: top;\n",
       "    }\n",
       "\n",
       "    .dataframe thead th {\n",
       "        text-align: right;\n",
       "    }\n",
       "</style>\n",
       "<table border=\"1\" class=\"dataframe\">\n",
       "  <thead>\n",
       "    <tr style=\"text-align: right;\">\n",
       "      <th></th>\n",
       "      <th>Cement</th>\n",
       "      <th>Blast Furnace Slag</th>\n",
       "      <th>Fly Ash</th>\n",
       "      <th>Water</th>\n",
       "      <th>Superplasticizer</th>\n",
       "      <th>Coarse Aggregate</th>\n",
       "      <th>Fine Aggregate</th>\n",
       "      <th>Age</th>\n",
       "    </tr>\n",
       "  </thead>\n",
       "  <tbody>\n",
       "    <tr>\n",
       "      <th>0</th>\n",
       "      <td>540.0</td>\n",
       "      <td>0.0</td>\n",
       "      <td>0.0</td>\n",
       "      <td>162.0</td>\n",
       "      <td>2.5</td>\n",
       "      <td>1040.0</td>\n",
       "      <td>676.0</td>\n",
       "      <td>28</td>\n",
       "    </tr>\n",
       "    <tr>\n",
       "      <th>1</th>\n",
       "      <td>540.0</td>\n",
       "      <td>0.0</td>\n",
       "      <td>0.0</td>\n",
       "      <td>162.0</td>\n",
       "      <td>2.5</td>\n",
       "      <td>1055.0</td>\n",
       "      <td>676.0</td>\n",
       "      <td>28</td>\n",
       "    </tr>\n",
       "    <tr>\n",
       "      <th>2</th>\n",
       "      <td>332.5</td>\n",
       "      <td>142.5</td>\n",
       "      <td>0.0</td>\n",
       "      <td>228.0</td>\n",
       "      <td>0.0</td>\n",
       "      <td>932.0</td>\n",
       "      <td>594.0</td>\n",
       "      <td>270</td>\n",
       "    </tr>\n",
       "    <tr>\n",
       "      <th>3</th>\n",
       "      <td>332.5</td>\n",
       "      <td>142.5</td>\n",
       "      <td>0.0</td>\n",
       "      <td>228.0</td>\n",
       "      <td>0.0</td>\n",
       "      <td>932.0</td>\n",
       "      <td>594.0</td>\n",
       "      <td>365</td>\n",
       "    </tr>\n",
       "    <tr>\n",
       "      <th>4</th>\n",
       "      <td>198.6</td>\n",
       "      <td>132.4</td>\n",
       "      <td>0.0</td>\n",
       "      <td>192.0</td>\n",
       "      <td>0.0</td>\n",
       "      <td>978.4</td>\n",
       "      <td>825.5</td>\n",
       "      <td>360</td>\n",
       "    </tr>\n",
       "  </tbody>\n",
       "</table>\n",
       "</div>"
      ],
      "text/plain": [
       "   Cement  Blast Furnace Slag  Fly Ash  Water  Superplasticizer  \\\n",
       "0   540.0                 0.0      0.0  162.0               2.5   \n",
       "1   540.0                 0.0      0.0  162.0               2.5   \n",
       "2   332.5               142.5      0.0  228.0               0.0   \n",
       "3   332.5               142.5      0.0  228.0               0.0   \n",
       "4   198.6               132.4      0.0  192.0               0.0   \n",
       "\n",
       "   Coarse Aggregate  Fine Aggregate  Age  \n",
       "0            1040.0           676.0   28  \n",
       "1            1055.0           676.0   28  \n",
       "2             932.0           594.0  270  \n",
       "3             932.0           594.0  365  \n",
       "4             978.4           825.5  360  "
      ]
     },
     "execution_count": 41,
     "metadata": {},
     "output_type": "execute_result"
    }
   ],
   "source": [
    "predictors.head()"
   ]
  },
  {
   "attachments": {},
   "cell_type": "markdown",
   "metadata": {},
   "source": [
    "And the target"
   ]
  },
  {
   "cell_type": "code",
   "execution_count": 42,
   "metadata": {},
   "outputs": [
    {
     "data": {
      "text/plain": [
       "0    79.99\n",
       "1    61.89\n",
       "2    40.27\n",
       "3    41.05\n",
       "4    44.30\n",
       "Name: Strength, dtype: float64"
      ]
     },
     "execution_count": 42,
     "metadata": {},
     "output_type": "execute_result"
    }
   ],
   "source": [
    "target.head()"
   ]
  },
  {
   "attachments": {},
   "cell_type": "markdown",
   "metadata": {},
   "source": [
    "## B: Normalize the Data "
   ]
  },
  {
   "attachments": {},
   "cell_type": "markdown",
   "metadata": {},
   "source": [
    "Recall that one way to normalize the data is by subtracting the mean from the individual predictors and dividing by the standard deviation.  \n",
    "As the instructions prompt me to do."
   ]
  },
  {
   "cell_type": "code",
   "execution_count": 43,
   "metadata": {},
   "outputs": [
    {
     "data": {
      "text/html": [
       "<div>\n",
       "<style scoped>\n",
       "    .dataframe tbody tr th:only-of-type {\n",
       "        vertical-align: middle;\n",
       "    }\n",
       "\n",
       "    .dataframe tbody tr th {\n",
       "        vertical-align: top;\n",
       "    }\n",
       "\n",
       "    .dataframe thead th {\n",
       "        text-align: right;\n",
       "    }\n",
       "</style>\n",
       "<table border=\"1\" class=\"dataframe\">\n",
       "  <thead>\n",
       "    <tr style=\"text-align: right;\">\n",
       "      <th></th>\n",
       "      <th>Cement</th>\n",
       "      <th>Blast Furnace Slag</th>\n",
       "      <th>Fly Ash</th>\n",
       "      <th>Water</th>\n",
       "      <th>Superplasticizer</th>\n",
       "      <th>Coarse Aggregate</th>\n",
       "      <th>Fine Aggregate</th>\n",
       "      <th>Age</th>\n",
       "    </tr>\n",
       "  </thead>\n",
       "  <tbody>\n",
       "    <tr>\n",
       "      <th>0</th>\n",
       "      <td>2.476712</td>\n",
       "      <td>-0.856472</td>\n",
       "      <td>-0.846733</td>\n",
       "      <td>-0.916319</td>\n",
       "      <td>-0.620147</td>\n",
       "      <td>0.862735</td>\n",
       "      <td>-1.217079</td>\n",
       "      <td>-0.279597</td>\n",
       "    </tr>\n",
       "    <tr>\n",
       "      <th>1</th>\n",
       "      <td>2.476712</td>\n",
       "      <td>-0.856472</td>\n",
       "      <td>-0.846733</td>\n",
       "      <td>-0.916319</td>\n",
       "      <td>-0.620147</td>\n",
       "      <td>1.055651</td>\n",
       "      <td>-1.217079</td>\n",
       "      <td>-0.279597</td>\n",
       "    </tr>\n",
       "    <tr>\n",
       "      <th>2</th>\n",
       "      <td>0.491187</td>\n",
       "      <td>0.795140</td>\n",
       "      <td>-0.846733</td>\n",
       "      <td>2.174405</td>\n",
       "      <td>-1.038638</td>\n",
       "      <td>-0.526262</td>\n",
       "      <td>-2.239829</td>\n",
       "      <td>3.551340</td>\n",
       "    </tr>\n",
       "    <tr>\n",
       "      <th>3</th>\n",
       "      <td>0.491187</td>\n",
       "      <td>0.795140</td>\n",
       "      <td>-0.846733</td>\n",
       "      <td>2.174405</td>\n",
       "      <td>-1.038638</td>\n",
       "      <td>-0.526262</td>\n",
       "      <td>-2.239829</td>\n",
       "      <td>5.055221</td>\n",
       "    </tr>\n",
       "    <tr>\n",
       "      <th>4</th>\n",
       "      <td>-0.790075</td>\n",
       "      <td>0.678079</td>\n",
       "      <td>-0.846733</td>\n",
       "      <td>0.488555</td>\n",
       "      <td>-1.038638</td>\n",
       "      <td>0.070492</td>\n",
       "      <td>0.647569</td>\n",
       "      <td>4.976069</td>\n",
       "    </tr>\n",
       "  </tbody>\n",
       "</table>\n",
       "</div>"
      ],
      "text/plain": [
       "     Cement  Blast Furnace Slag   Fly Ash     Water  Superplasticizer  \\\n",
       "0  2.476712           -0.856472 -0.846733 -0.916319         -0.620147   \n",
       "1  2.476712           -0.856472 -0.846733 -0.916319         -0.620147   \n",
       "2  0.491187            0.795140 -0.846733  2.174405         -1.038638   \n",
       "3  0.491187            0.795140 -0.846733  2.174405         -1.038638   \n",
       "4 -0.790075            0.678079 -0.846733  0.488555         -1.038638   \n",
       "\n",
       "   Coarse Aggregate  Fine Aggregate       Age  \n",
       "0          0.862735       -1.217079 -0.279597  \n",
       "1          1.055651       -1.217079 -0.279597  \n",
       "2         -0.526262       -2.239829  3.551340  \n",
       "3         -0.526262       -2.239829  5.055221  \n",
       "4          0.070492        0.647569  4.976069  "
      ]
     },
     "execution_count": 43,
     "metadata": {},
     "output_type": "execute_result"
    }
   ],
   "source": [
    "# I normalize the data by subtracting the mean from the individual predictors and dividing by the standard deviation\n",
    "predictors_norm = (predictors - predictors.mean()) / predictors.std()\n",
    "\n",
    "# I print the top 5\n",
    "predictors_norm.head()"
   ]
  },
  {
   "attachments": {},
   "cell_type": "markdown",
   "metadata": {},
   "source": [
    "## Build a Baseline Model"
   ]
  },
  {
   "attachments": {},
   "cell_type": "markdown",
   "metadata": {},
   "source": [
    "So lets import Keras using tensorflow 2.11"
   ]
  },
  {
   "cell_type": "code",
   "execution_count": 44,
   "metadata": {},
   "outputs": [],
   "source": [
    "import tensorflow as tf \n",
    "# print(tf.version.VERSION)\n",
    "# from tensorflow import keras"
   ]
  },
  {
   "attachments": {},
   "cell_type": "markdown",
   "metadata": {},
   "source": [
    "## D: Increase the number of hidden layers to 3"
   ]
  },
  {
   "attachments": {},
   "cell_type": "markdown",
   "metadata": {},
   "source": [
    "Use the Keras library to build a neural network with the following:\n",
    "\n",
    "- Three hidden layers of 10 nodes, and a ReLU activation function\n",
    "\n",
    "- Use the adam optimizer and the mean squared error  as the loss function."
   ]
  },
  {
   "cell_type": "code",
   "execution_count": 45,
   "metadata": {},
   "outputs": [],
   "source": [
    "# Regression model\n",
    "def regression_model():\n",
    "    #I create the model\n",
    "    model = tf.keras.Sequential()\n",
    "    # In Dense method i put in the hidden layer 10 neurons with the RelU activation function\n",
    "    model.add(tf.keras.layers.Dense(10, activation='relu', input_shape=(8,)))\n",
    "    # Add the 2 additional hidden layers to the neural network\n",
    "    model.add(tf.keras.layers.Dense(10, activation='relu'))\n",
    "    model.add(tf.keras.layers.Dense(10, activation='relu'))\n",
    "    model.add(tf.keras.layers.Dense(1))\n",
    "    \n",
    "    # and add the adam optimizer and the mean squared error as the loss function \n",
    "    model.compile(optimizer='adam', loss='mean_squared_error')\n",
    "    return model"
   ]
  },
  {
   "attachments": {},
   "cell_type": "markdown",
   "metadata": {},
   "source": [
    "1. Randomly split the data into a training and test sets by holding 30% of the data for testing. You can use the train_test_splithelper function from Scikit-learn."
   ]
  },
  {
   "cell_type": "code",
   "execution_count": 46,
   "metadata": {},
   "outputs": [],
   "source": [
    "#import train_test_split from sklearn\n",
    "from sklearn.model_selection import train_test_split\n",
    "#and split the data into a training and test sets with 70-30 % training - test\n",
    "X_train, X_test, y_train, y_test = train_test_split(predictors, target, test_size=0.3, random_state=7)"
   ]
  },
  {
   "attachments": {},
   "cell_type": "markdown",
   "metadata": {},
   "source": [
    "2. Train the model on the training data using 50 epochs."
   ]
  },
  {
   "cell_type": "code",
   "execution_count": 47,
   "metadata": {},
   "outputs": [
    {
     "name": "stdout",
     "output_type": "stream",
     "text": [
      "Epoch 1/50\n",
      "23/23 [==============================] - 1s 864us/step - loss: 63406.5078\n",
      "Epoch 2/50\n",
      "23/23 [==============================] - 0s 773us/step - loss: 4754.4214\n",
      "Epoch 3/50\n",
      "23/23 [==============================] - 0s 818us/step - loss: 768.1228\n",
      "Epoch 4/50\n",
      "23/23 [==============================] - 0s 773us/step - loss: 645.5560\n",
      "Epoch 5/50\n",
      "23/23 [==============================] - 0s 818us/step - loss: 595.6786\n",
      "Epoch 6/50\n",
      "23/23 [==============================] - 0s 773us/step - loss: 581.8517\n",
      "Epoch 7/50\n",
      "23/23 [==============================] - 0s 773us/step - loss: 567.4668\n",
      "Epoch 8/50\n",
      "23/23 [==============================] - 0s 818us/step - loss: 553.7631\n",
      "Epoch 9/50\n",
      "23/23 [==============================] - 0s 773us/step - loss: 538.4346\n",
      "Epoch 10/50\n",
      "23/23 [==============================] - 0s 773us/step - loss: 525.7601\n",
      "Epoch 11/50\n",
      "23/23 [==============================] - 0s 773us/step - loss: 510.3493\n",
      "Epoch 12/50\n",
      "23/23 [==============================] - 0s 773us/step - loss: 498.9907\n",
      "Epoch 13/50\n",
      "23/23 [==============================] - 0s 773us/step - loss: 484.0817\n",
      "Epoch 14/50\n",
      "23/23 [==============================] - 0s 773us/step - loss: 471.9521\n",
      "Epoch 15/50\n",
      "23/23 [==============================] - 0s 818us/step - loss: 457.9841\n",
      "Epoch 16/50\n",
      "23/23 [==============================] - 0s 818us/step - loss: 447.6816\n",
      "Epoch 17/50\n",
      "23/23 [==============================] - 0s 773us/step - loss: 435.5551\n",
      "Epoch 18/50\n",
      "23/23 [==============================] - 0s 773us/step - loss: 425.0059\n",
      "Epoch 19/50\n",
      "23/23 [==============================] - 0s 773us/step - loss: 413.7442\n",
      "Epoch 20/50\n",
      "23/23 [==============================] - 0s 818us/step - loss: 405.5296\n",
      "Epoch 21/50\n",
      "23/23 [==============================] - 0s 818us/step - loss: 395.5737\n",
      "Epoch 22/50\n",
      "23/23 [==============================] - 0s 818us/step - loss: 387.0759\n",
      "Epoch 23/50\n",
      "23/23 [==============================] - 0s 773us/step - loss: 376.7179\n",
      "Epoch 24/50\n",
      "23/23 [==============================] - 0s 773us/step - loss: 369.7071\n",
      "Epoch 25/50\n",
      "23/23 [==============================] - 0s 773us/step - loss: 361.1931\n",
      "Epoch 26/50\n",
      "23/23 [==============================] - 0s 818us/step - loss: 354.8841\n",
      "Epoch 27/50\n",
      "23/23 [==============================] - 0s 773us/step - loss: 348.4920\n",
      "Epoch 28/50\n",
      "23/23 [==============================] - 0s 818us/step - loss: 340.3617\n",
      "Epoch 29/50\n",
      "23/23 [==============================] - 0s 773us/step - loss: 336.6025\n",
      "Epoch 30/50\n",
      "23/23 [==============================] - 0s 773us/step - loss: 326.1037\n",
      "Epoch 31/50\n",
      "23/23 [==============================] - 0s 773us/step - loss: 320.6874\n",
      "Epoch 32/50\n",
      "23/23 [==============================] - 0s 828us/step - loss: 313.4195\n",
      "Epoch 33/50\n",
      "23/23 [==============================] - 0s 773us/step - loss: 308.0134\n",
      "Epoch 34/50\n",
      "23/23 [==============================] - 0s 818us/step - loss: 301.7852\n",
      "Epoch 35/50\n",
      "23/23 [==============================] - 0s 773us/step - loss: 295.7793\n",
      "Epoch 36/50\n",
      "23/23 [==============================] - 0s 773us/step - loss: 291.8886\n",
      "Epoch 37/50\n",
      "23/23 [==============================] - 0s 818us/step - loss: 286.8528\n",
      "Epoch 38/50\n",
      "23/23 [==============================] - 0s 773us/step - loss: 280.6081\n",
      "Epoch 39/50\n",
      "23/23 [==============================] - 0s 773us/step - loss: 274.4368\n",
      "Epoch 40/50\n",
      "23/23 [==============================] - 0s 773us/step - loss: 271.0382\n",
      "Epoch 41/50\n",
      "23/23 [==============================] - 0s 773us/step - loss: 267.8215\n",
      "Epoch 42/50\n",
      "23/23 [==============================] - 0s 773us/step - loss: 261.3823\n",
      "Epoch 43/50\n",
      "23/23 [==============================] - 0s 773us/step - loss: 257.9881\n",
      "Epoch 44/50\n",
      "23/23 [==============================] - 0s 773us/step - loss: 254.1213\n",
      "Epoch 45/50\n",
      "23/23 [==============================] - 0s 818us/step - loss: 248.2862\n",
      "Epoch 46/50\n",
      "23/23 [==============================] - 0s 773us/step - loss: 245.7355\n",
      "Epoch 47/50\n",
      "23/23 [==============================] - 0s 818us/step - loss: 242.6983\n",
      "Epoch 48/50\n",
      "23/23 [==============================] - 0s 773us/step - loss: 237.9558\n",
      "Epoch 49/50\n",
      "23/23 [==============================] - 0s 773us/step - loss: 235.4727\n",
      "Epoch 50/50\n",
      "23/23 [==============================] - 0s 818us/step - loss: 231.6747\n"
     ]
    },
    {
     "data": {
      "text/plain": [
       "<keras.callbacks.History at 0x262e66848b0>"
      ]
     },
     "execution_count": 47,
     "metadata": {},
     "output_type": "execute_result"
    }
   ],
   "source": [
    "# I call the method to create the model and put it into model var\n",
    "model = regression_model()\n",
    "# and i use 50 epochs to train it\n",
    "model.fit(X_train, y_train, epochs=50, verbose=1)"
   ]
  },
  {
   "attachments": {},
   "cell_type": "markdown",
   "metadata": {},
   "source": [
    "3. Evaluate the model on the test data and compute the mean squared error between the predicted concrete strength and the actual concrete strength. You can use the mean_squared_error function from Scikit-learn."
   ]
  },
  {
   "cell_type": "code",
   "execution_count": 48,
   "metadata": {},
   "outputs": [
    {
     "name": "stdout",
     "output_type": "stream",
     "text": [
      "10/10 [==============================] - 0s 778us/step - loss: 204.9387\n",
      "10/10 [==============================] - 0s 781us/step\n"
     ]
    },
    {
     "data": {
      "text/plain": [
       "204.93870544433594"
      ]
     },
     "execution_count": 48,
     "metadata": {},
     "output_type": "execute_result"
    }
   ],
   "source": [
    "#evaluate the model \n",
    "loss_val = model.evaluate(X_test, y_test)\n",
    "y_pred = model.predict(X_test)\n",
    "loss_val"
   ]
  },
  {
   "cell_type": "code",
   "execution_count": 49,
   "metadata": {},
   "outputs": [
    {
     "name": "stdout",
     "output_type": "stream",
     "text": [
      "204.93871490573198 0.0\n"
     ]
    }
   ],
   "source": [
    "# import mean_squared_error from sklearn.metrics\n",
    "from sklearn.metrics import mean_squared_error\n",
    "# compute the mean squared error between the predicted concrete stregth y_pred and the actual concrete strength y_test \n",
    "mean_square_error = mean_squared_error(y_test, y_pred)\n",
    "mean = np.mean(mean_square_error)\n",
    "standard_deviation = np.std(mean_square_error)\n",
    "print(mean, standard_deviation)"
   ]
  },
  {
   "attachments": {},
   "cell_type": "markdown",
   "metadata": {},
   "source": [
    "4. Repeat steps 1 - 3, 50 times, i.e., create a list of 50 mean squared errors.  \n",
    "5. Report the mean and the standard deviation of the mean squared errors."
   ]
  },
  {
   "cell_type": "code",
   "execution_count": 50,
   "metadata": {},
   "outputs": [
    {
     "name": "stdout",
     "output_type": "stream",
     "text": [
      "MSE 1: 80.96833801269531\n",
      "10/10 [==============================] - 0s 666us/step\n",
      "MSE 2: 85.04658508300781\n",
      "10/10 [==============================] - 0s 667us/step\n",
      "MSE 3: 62.03527069091797\n",
      "10/10 [==============================] - 0s 778us/step\n",
      "MSE 4: 58.13543701171875\n",
      "10/10 [==============================] - 0s 667us/step\n",
      "MSE 5: 53.06267547607422\n",
      "10/10 [==============================] - 0s 667us/step\n",
      "MSE 6: 53.57664489746094\n",
      "10/10 [==============================] - 0s 778us/step\n",
      "MSE 7: 64.06069946289062\n",
      "10/10 [==============================] - 0s 667us/step\n",
      "MSE 8: 52.73115539550781\n",
      "10/10 [==============================] - 0s 666us/step\n",
      "MSE 9: 49.46168518066406\n",
      "10/10 [==============================] - 0s 667us/step\n",
      "MSE 10: 47.6562385559082\n",
      "10/10 [==============================] - 0s 778us/step\n",
      "MSE 11: 46.20335388183594\n",
      "10/10 [==============================] - 0s 778us/step\n",
      "MSE 12: 44.11347198486328\n",
      "10/10 [==============================] - 0s 667us/step\n",
      "MSE 13: 52.429134368896484\n",
      "10/10 [==============================] - 0s 666us/step\n",
      "MSE 14: 49.12443542480469\n",
      "10/10 [==============================] - 0s 682us/step\n",
      "MSE 15: 43.83711624145508\n",
      "10/10 [==============================] - 0s 667us/step\n",
      "MSE 16: 40.45061111450195\n",
      "10/10 [==============================] - 0s 667us/step\n",
      "MSE 17: 40.75214767456055\n",
      "10/10 [==============================] - 0s 778us/step\n",
      "MSE 18: 45.19363784790039\n",
      "10/10 [==============================] - 0s 889us/step\n",
      "MSE 19: 41.58699417114258\n",
      "10/10 [==============================] - 0s 778us/step\n",
      "MSE 20: 44.023441314697266\n",
      "10/10 [==============================] - 0s 778us/step\n",
      "MSE 21: 44.99354934692383\n",
      "10/10 [==============================] - 0s 778us/step\n",
      "MSE 22: 41.94073486328125\n",
      "10/10 [==============================] - 0s 667us/step\n",
      "MSE 23: 37.32643508911133\n",
      "10/10 [==============================] - 0s 889us/step\n",
      "MSE 24: 41.531768798828125\n",
      "10/10 [==============================] - 0s 777us/step\n",
      "MSE 25: 42.06417465209961\n",
      "10/10 [==============================] - 0s 667us/step\n",
      "MSE 26: 45.096588134765625\n",
      "10/10 [==============================] - 0s 667us/step\n",
      "MSE 27: 37.720279693603516\n",
      "10/10 [==============================] - 0s 777us/step\n",
      "MSE 28: 43.16288757324219\n",
      "10/10 [==============================] - 0s 778us/step\n",
      "MSE 29: 43.71072769165039\n",
      "10/10 [==============================] - 0s 778us/step\n",
      "MSE 30: 46.283470153808594\n",
      "10/10 [==============================] - 0s 778us/step\n",
      "MSE 31: 40.99106216430664\n",
      "10/10 [==============================] - 0s 666us/step\n",
      "MSE 32: 35.41546630859375\n",
      "10/10 [==============================] - 0s 779us/step\n",
      "MSE 33: 33.14522171020508\n",
      "10/10 [==============================] - 0s 778us/step\n",
      "MSE 34: 51.81447982788086\n",
      "10/10 [==============================] - 0s 667us/step\n",
      "MSE 35: 37.08132553100586\n",
      "10/10 [==============================] - 0s 667us/step\n",
      "MSE 36: 43.79094696044922\n",
      "10/10 [==============================] - 0s 779us/step\n",
      "MSE 37: 40.03989791870117\n",
      "10/10 [==============================] - 0s 778us/step\n",
      "MSE 38: 38.722137451171875\n",
      "10/10 [==============================] - 0s 778us/step\n",
      "MSE 39: 35.709468841552734\n",
      "10/10 [==============================] - 0s 778us/step\n",
      "MSE 40: 32.77346420288086\n",
      "10/10 [==============================] - 0s 667us/step\n",
      "MSE 41: 37.9225959777832\n",
      "10/10 [==============================] - 0s 778us/step\n",
      "MSE 42: 32.16984558105469\n",
      "10/10 [==============================] - 0s 667us/step\n",
      "MSE 43: 33.96571731567383\n",
      "10/10 [==============================] - 0s 667us/step\n",
      "MSE 44: 39.79941940307617\n",
      "10/10 [==============================] - 0s 778us/step\n",
      "MSE 45: 35.16339111328125\n",
      "10/10 [==============================] - 0s 666us/step\n",
      "MSE 46: 39.62794494628906\n",
      "10/10 [==============================] - 0s 667us/step\n",
      "MSE 47: 39.832740783691406\n",
      "10/10 [==============================] - 0s 667us/step\n",
      "MSE 48: 36.8389892578125\n",
      "10/10 [==============================] - 0s 667us/step\n",
      "MSE 49: 43.73749542236328\n",
      "10/10 [==============================] - 0s 778us/step\n",
      "MSE 50: 35.43266296386719\n",
      "10/10 [==============================] - 0s 778us/step\n",
      "\n",
      "\n",
      "Below is the mean and standard deviation of 50 mean squared errors with normalized data. \n",
      "\n",
      "Mean: 44.84507716417054\n",
      "Standard Deviation: 10.543047178278918\n"
     ]
    }
   ],
   "source": [
    "all_mean_squared_errors = 50\n",
    "#creating empty array\n",
    "mean_squared_errors = []\n",
    "#for 50 times i do the same as i did before\n",
    "for i in range(0, all_mean_squared_errors):\n",
    "    X_train, X_test, y_train, y_test = train_test_split(predictors, target, test_size=0.3, random_state=i)\n",
    "    model.fit(X_train, y_train, epochs=50, verbose=0)\n",
    "    MSE = model.evaluate(X_test, y_test, verbose=0)\n",
    "    print(\"MSE \"+str(i+1)+\": \"+str(MSE))\n",
    "    y_pred = model.predict(X_test)\n",
    "    mean_square_error = mean_squared_error(y_test, y_pred)\n",
    "    mean_squared_errors.append(mean_square_error)\n",
    "\n",
    "mean_squared_errors = np.array(mean_squared_errors)\n",
    "mean = np.mean(mean_squared_errors)\n",
    "standard_deviation = np.std(mean_squared_errors)\n",
    "\n",
    "print('\\n')\n",
    "print(\"Below is the mean and standard deviation of \" + str(all_mean_squared_errors) + \" mean squared errors with normalized data. \\n\")\n",
    "print(\"Mean: \"+ str(mean))\n",
    "print(\"Standard Deviation: \"+ str(standard_deviation))"
   ]
  },
  {
   "attachments": {},
   "cell_type": "markdown",
   "metadata": {},
   "source": [
    "## Question: How does the mean of the mean squared errors compare to that from Step B?"
   ]
  },
  {
   "attachments": {},
   "cell_type": "markdown",
   "metadata": {},
   "source": [
    "So at B the Mean was : 59.59618163562697 \n",
    "and at D it is : 44.84507716417054\n",
    "The Mean at D after we normalized our data is quite smaller than in question B where we did not.  \n",
    "That means that after we added the extra two hidden layers the model has even less error than before.  \n",
    "Actually we can see that this model(D) is the best one so far compared to (A),(B) and (C).  \n"
   ]
  }
 ],
 "metadata": {
  "kernelspec": {
   "display_name": "base",
   "language": "python",
   "name": "python3"
  },
  "language_info": {
   "codemirror_mode": {
    "name": "ipython",
    "version": 3
   },
   "file_extension": ".py",
   "mimetype": "text/x-python",
   "name": "python",
   "nbconvert_exporter": "python",
   "pygments_lexer": "ipython3",
   "version": "3.9.16"
  },
  "orig_nbformat": 4,
  "vscode": {
   "interpreter": {
    "hash": "6abd121b2e6f95f69b3b9a927f777e7560cd68a466a5b992d8c208064a9e0617"
   }
  }
 },
 "nbformat": 4,
 "nbformat_minor": 2
}
